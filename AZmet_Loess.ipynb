{
 "cells": [
  {
   "cell_type": "code",
   "execution_count": 1,
   "id": "9bd0d5ae-ae33-43d3-99a0-b1e4451dd59c",
   "metadata": {},
   "outputs": [
    {
     "name": "stderr",
     "output_type": "stream",
     "text": [
      "/opt/anaconda3/lib/python3.8/site-packages/outdated/utils.py:14: OutdatedPackageWarning: The package outdated is out of date. Your version is 0.2.0, the latest is 0.2.1.\n",
      "Set the environment variable OUTDATED_IGNORE=1 to disable these warnings.\n",
      "  return warn(\n"
     ]
    }
   ],
   "source": [
    "import pandas as pd\n",
    "import numpy as np\n",
    "import os\n",
    "import glob\n",
    "import datetime\n",
    "import seaborn as sns\n",
    "import statsmodels.api as sm\n",
    "import matplotlib.pyplot as plt\n",
    "import pingouin as pg\n",
    "import pandas as pd # for data manipulation\n",
    "import numpy as np # for data manipulation\n",
    "from sklearn.linear_model import LinearRegression # to build a LR model for comparison\n",
    "import plotly.graph_objects as go # for data visualization\n",
    "import plotly.express as px # for data visualization \n",
    "import statsmodels.api as sm # to build a LOWESS model\n",
    "from scipy.interpolate import interp1d # for interpolation of new data points\n",
    "import subprocess"
   ]
  },
  {
   "cell_type": "code",
   "execution_count": 2,
   "id": "cf215634-5fd7-4d95-9b84-df2d720a8651",
   "metadata": {},
   "outputs": [],
   "source": [
    "class AZmet:\n",
    "    def __init__ (self, filename):\n",
    "        file = pd.read_csv(filename, names = [\"Year\", \"Day\", \"Hour\", \n",
    "                                            \"Air Temperature\", \"Relative Humidity\", \n",
    "                                            \"VPD\", \"Solar Radiation\", \"Precipitation\", \n",
    "                                            \"4 inch Soil T\", \"12 inch Soil T\", \n",
    "                                            \"Avg Wind Speed\", \"Wind Vector Magnitude\", \n",
    "                                            \"Wind Vector Direction\", \"Wind Direction STDEV\", \n",
    "                                            \"Max Wind Speed\", \"Reference Evapotranspiration\", \n",
    "                                            \"Actual Vapor Pressure\", \"Dewpoint\"])\n",
    "        file_df = pd.DataFrame(file)\n",
    "        file_df['combined'] = file_df[\"Year\"]*1000 + file_df[\"Day\"]\n",
    "        file_df[\"date\"] = pd.to_datetime(file_df[\"combined\"], format = \"%Y%j\")\n",
    "        data = file_df.set_index('date')\n",
    "        del data['combined']\n",
    "        self.__data__ = data\n",
    "        \n",
    "    def specific_time(self, date1, date2):\n",
    "        data = self.__data__\n",
    "        specific_time_start = data[data.index >= date1]\n",
    "        specific_time_end = specific_time_start[specific_time_start.index <= date2]\n",
    "        return specific_time_end\n",
    "   \n",
    "    \n",
    "filename = AZmet('/Users/sebastiancalleja/Desktop/OneDrive - University of Arizona/Graduate School/Cotton_Inc_Report/2021 Annual Report/AZmet_2020data_req.csv')"
   ]
  },
  {
   "cell_type": "code",
   "execution_count": 3,
   "id": "871af4d1-322a-4fa5-b7f3-de8ccd1afe4b",
   "metadata": {},
   "outputs": [],
   "source": [
    "azmet_2020 = AZmet.specific_time(filename, '2020-01-01', '2020-12-31')"
   ]
  },
  {
   "cell_type": "code",
   "execution_count": 4,
   "id": "96fe19f0-fdb8-435e-8cf6-465ced00582c",
   "metadata": {},
   "outputs": [],
   "source": [
    "azmet_2020 = azmet_2020.reset_index()"
   ]
  },
  {
   "cell_type": "code",
   "execution_count": 5,
   "id": "50c535a2-3c48-4ff2-a33c-af8849134c3d",
   "metadata": {},
   "outputs": [],
   "source": [
    "day_only = azmet_2020[azmet_2020['Solar Radiation'] >  0.0] "
   ]
  },
  {
   "cell_type": "code",
   "execution_count": 6,
   "id": "d2464731-ac07-4223-ab45-f585d4f77850",
   "metadata": {},
   "outputs": [],
   "source": [
    "single_day = day_only[day_only['Day'] == 224]"
   ]
  },
  {
   "cell_type": "code",
   "execution_count": 7,
   "id": "a9e3f9ad-f7c5-44fb-8837-2593f634472f",
   "metadata": {},
   "outputs": [],
   "source": [
    "x = single_day['Hour'].to_numpy()\n",
    "y = single_day['Air Temperature'].to_numpy()"
   ]
  },
  {
   "cell_type": "code",
   "execution_count": 8,
   "id": "9fca2e20-d95c-47bc-a651-c5c77d40e1bf",
   "metadata": {},
   "outputs": [],
   "source": [
    "df = pd.DataFrame(x, y).reset_index()\n",
    "df = df.rename(columns = {'index':'y', 0:'x'})"
   ]
  },
  {
   "cell_type": "code",
   "execution_count": 9,
   "id": "ebc7d297-4101-4047-a30a-ba78387eaaa4",
   "metadata": {},
   "outputs": [
    {
     "data": {
      "text/plain": [
       "<AxesSubplot:xlabel='x', ylabel='y'>"
      ]
     },
     "execution_count": 9,
     "metadata": {},
     "output_type": "execute_result"
    },
    {
     "data": {
      "image/png": "[encoded data removed]",
      "text/plain": [
       "<Figure size 432x288 with 1 Axes>"
      ]
     },
     "metadata": {
      "needs_background": "light"
     },
     "output_type": "display_data"
    }
   ],
   "source": [
    "sns.scatterplot(data = df, x = 'x', y = 'y')"
   ]
  },
  {
   "cell_type": "markdown",
   "id": "7d37c6c1-2439-4031-80a8-12a4da6adfff",
   "metadata": {},
   "source": [
    "## Other Methods"
   ]
  },
  {
   "cell_type": "code",
   "execution_count": null,
   "id": "2c948cfc-4dc0-4312-b3b2-6c43cdfd1bd4",
   "metadata": {},
   "outputs": [],
   "source": []
  }
 ],
 "metadata": {
  "kernelspec": {
   "display_name": "Python 3 (ipykernel)",
   "language": "python",
   "name": "python3"
  },
  "language_info": {
   "codemirror_mode": {
    "name": "ipython",
    "version": 3
   },
   "file_extension": ".py",
   "mimetype": "text/x-python",
   "name": "python",
   "nbconvert_exporter": "python",
   "pygments_lexer": "ipython3",
   "version": "3.8.3"
  }
 },
 "nbformat": 4,
 "nbformat_minor": 5
}
